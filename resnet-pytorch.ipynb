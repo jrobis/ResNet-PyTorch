{
 "cells": [
  {
   "cell_type": "markdown",
   "id": "88582880-b254-4ad8-b96d-e65b77cff139",
   "metadata": {
    "gradient": {
     "editing": false,
     "id": "88582880-b254-4ad8-b96d-e65b77cff139",
     "kernelId": "1243023c-79c5-4602-af2a-61dba05859cd"
    }
   },
   "source": [
    "# Build Model"
   ]
  },
  {
   "cell_type": "code",
   "execution_count": null,
   "id": "683935ad",
   "metadata": {
    "vscode": {
     "languageId": "python"
    }
   },
   "outputs": [],
   "source": [
    "from functools import partial\n",
    "import torch.nn as nn"
   ]
  },
  {
   "cell_type": "code",
   "execution_count": 2,
   "id": "9a175e0a-48ea-422f-ba39-04b9aa1f224e",
   "metadata": {
    "collapsed": false,
    "gradient": {
     "editing": false,
     "id": "9a175e0a-48ea-422f-ba39-04b9aa1f224e",
     "kernelId": "1243023c-79c5-4602-af2a-61dba05859cd",
     "source_hidden": false
    },
    "vscode": {
     "languageId": "python"
    }
   },
   "outputs": [],
   "source": [
    "class Conv2dAuto(nn.Conv2d):\n",
    "    def __init__(self, *args, **kwargs):\n",
    "        super().__init__(*args, **kwargs)\n",
    "        self.padding =  (self.kernel_size[0] // 2, self.kernel_size[1] // 2) # dynamic add padding based on the kernel_size\n",
    "        \n",
    "conv3x3 = partial(Conv2dAuto, kernel_size=3, bias=False)   "
   ]
  },
  {
   "cell_type": "code",
   "execution_count": 3,
   "id": "f86c8daf-7202-4152-b736-e792811232e6",
   "metadata": {
    "collapsed": false,
    "gradient": {
     "editing": false,
     "id": "f86c8daf-7202-4152-b736-e792811232e6",
     "kernelId": "1243023c-79c5-4602-af2a-61dba05859cd",
     "source_hidden": false
    },
    "vscode": {
     "languageId": "python"
    }
   },
   "outputs": [],
   "source": [
    "def activation_func(activation):\n",
    "    return  nn.ModuleDict([\n",
    "        ['relu', nn.ReLU(inplace=True)],\n",
    "        ['leaky_relu', nn.LeakyReLU(negative_slope=0.01, inplace=True)],\n",
    "        ['selu', nn.SELU(inplace=True)],\n",
    "        ['none', nn.Identity()]\n",
    "    ])[activation]"
   ]
  },
  {
   "cell_type": "code",
   "execution_count": 4,
   "id": "15555715-ac19-447b-9b8a-00d12439b481",
   "metadata": {
    "collapsed": false,
    "gradient": {
     "editing": false,
     "id": "15555715-ac19-447b-9b8a-00d12439b481",
     "kernelId": "1243023c-79c5-4602-af2a-61dba05859cd",
     "source_hidden": false
    },
    "vscode": {
     "languageId": "python"
    }
   },
   "outputs": [],
   "source": [
    "class ResidualBlock(nn.Module):\n",
    "    def __init__(self, in_channels, out_channels, activation='relu'):\n",
    "        super().__init__()\n",
    "        self.in_channels, self.out_channels, self.activation = in_channels, out_channels, activation\n",
    "        self.blocks = nn.Identity()\n",
    "        self.activate = activation_func(activation)\n",
    "        self.shortcut = nn.Identity()   \n",
    "    \n",
    "    def forward(self, x):\n",
    "        residual = x\n",
    "        if self.should_apply_shortcut: residual = self.shortcut(x)\n",
    "        x = self.blocks(x)\n",
    "        x += residual\n",
    "        x = self.activate(x)\n",
    "        return x\n",
    "    \n",
    "    @property\n",
    "    def should_apply_shortcut(self):\n",
    "        return self.in_channels != self.out_channels"
   ]
  },
  {
   "cell_type": "code",
   "execution_count": 5,
   "id": "51325b3e-1911-40d3-88d2-d6e82b98b4f1",
   "metadata": {
    "collapsed": false,
    "gradient": {
     "editing": false,
     "id": "51325b3e-1911-40d3-88d2-d6e82b98b4f1",
     "kernelId": "1243023c-79c5-4602-af2a-61dba05859cd",
     "source_hidden": false
    },
    "vscode": {
     "languageId": "python"
    }
   },
   "outputs": [],
   "source": [
    "class ResNetResidualBlock(ResidualBlock):\n",
    "    def __init__(self, in_channels, out_channels, expansion=1, downsampling=1, conv=conv3x3, *args, **kwargs):\n",
    "        super().__init__(in_channels, out_channels, *args, **kwargs)\n",
    "        self.expansion, self.downsampling, self.conv = expansion, downsampling, conv\n",
    "        self.shortcut = nn.Sequential(\n",
    "            nn.Conv2d(self.in_channels, self.expanded_channels, kernel_size=1,\n",
    "                      stride=self.downsampling, bias=False),\n",
    "            nn.BatchNorm2d(self.expanded_channels)) if self.should_apply_shortcut else None\n",
    "        \n",
    "    @property\n",
    "    def expanded_channels(self):\n",
    "        return self.out_channels * self.expansion\n",
    "    \n",
    "    @property\n",
    "    def should_apply_shortcut(self):\n",
    "        return self.in_channels != self.expanded_channels\n",
    "\n",
    "\n",
    "def conv_bn(in_channels, out_channels, conv, *args, **kwargs):\n",
    "    return nn.Sequential(conv(in_channels, out_channels, *args, **kwargs), nn.BatchNorm2d(out_channels))\n"
   ]
  },
  {
   "cell_type": "code",
   "execution_count": 6,
   "id": "83fac79b",
   "metadata": {
    "vscode": {
     "languageId": "python"
    }
   },
   "outputs": [],
   "source": [
    "class ResNetBasicBlock(ResNetResidualBlock):\n",
    "    \"\"\"\n",
    "    Basic ResNet block composed by two layers of 3x3conv/batchnorm/activation\n",
    "    \"\"\"\n",
    "    expansion = 1\n",
    "    def __init__(self, in_channels, out_channels, *args, **kwargs):\n",
    "        super().__init__(in_channels, out_channels, *args, **kwargs)\n",
    "        self.blocks = nn.Sequential(\n",
    "            conv_bn(self.in_channels, self.out_channels, conv=self.conv, bias=False, stride=self.downsampling),\n",
    "            activation_func(self.activation),\n",
    "            conv_bn(self.out_channels, self.expanded_channels, conv=self.conv, bias=False),\n",
    "        )"
   ]
  },
  {
   "cell_type": "code",
   "execution_count": 7,
   "id": "5fc3ecae",
   "metadata": {
    "vscode": {
     "languageId": "python"
    }
   },
   "outputs": [],
   "source": [
    "class ResNetBottleNeckBlock(ResNetResidualBlock):\n",
    "    expansion = 4\n",
    "    def __init__(self, in_channels, out_channels, *args, **kwargs):\n",
    "        super().__init__(in_channels, out_channels, expansion=4, *args, **kwargs)\n",
    "        self.blocks = nn.Sequential(\n",
    "            conv_bn(self.in_channels, self.out_channels, self.conv, kernel_size=1),\n",
    "            activation_func(self.activation),\n",
    "            conv_bn(self.out_channels, self.out_channels, self.conv, kernel_size=3, stride=self.downsampling),\n",
    "            activation_func(self.activation),\n",
    "            conv_bn(self.out_channels, self.expanded_channels, self.conv, kernel_size=1),\n",
    "        )"
   ]
  },
  {
   "cell_type": "code",
   "execution_count": 8,
   "id": "5171fcb0",
   "metadata": {
    "vscode": {
     "languageId": "python"
    }
   },
   "outputs": [],
   "source": [
    "class ResNetLayer(nn.Module):\n",
    "    \"\"\"\n",
    "    A ResNet layer composed by `n` blocks stacked one after the other\n",
    "    \"\"\"\n",
    "    def __init__(self, in_channels, out_channels, block=ResNetBasicBlock, n=1, *args, **kwargs):\n",
    "        super().__init__()\n",
    "        # 'We perform downsampling directly by convolutional layers that have a stride of 2.'\n",
    "        downsampling = 2 if in_channels != out_channels else 1\n",
    "        self.blocks = nn.Sequential(\n",
    "            block(in_channels , out_channels, *args, **kwargs, downsampling=downsampling),\n",
    "            *[block(out_channels * block.expansion, \n",
    "                    out_channels, downsampling=1, *args, **kwargs) for _ in range(n - 1)]\n",
    "        )\n",
    "\n",
    "    def forward(self, x):\n",
    "        x = self.blocks(x)\n",
    "        return x"
   ]
  },
  {
   "cell_type": "code",
   "execution_count": 9,
   "id": "59d68e4e",
   "metadata": {
    "vscode": {
     "languageId": "python"
    }
   },
   "outputs": [],
   "source": [
    "class ResNetEncoder(nn.Module):\n",
    "    \"\"\"\n",
    "    ResNet encoder composed by layers with increasing features.\n",
    "    \"\"\"\n",
    "    def __init__(self, in_channels=3, blocks_sizes=[64, 128, 256, 512], deepths=[2,2,2,2], \n",
    "                 activation='relu', block=ResNetBasicBlock, *args, **kwargs):\n",
    "        super().__init__()\n",
    "        self.blocks_sizes = blocks_sizes\n",
    "        \n",
    "        self.gate = nn.Sequential(\n",
    "            Conv2dAuto(in_channels, self.blocks_sizes[0], kernel_size=7, stride=2, bias=False),\n",
    "            # nn.Conv2d(in_channels, self.blocks_sizes[0], kernel_size=7, stride=2, padding=3, bias=False),\n",
    "            nn.BatchNorm2d(self.blocks_sizes[0]),\n",
    "            activation_func(activation),\n",
    "            nn.MaxPool2d(kernel_size=3, stride=2, padding=1)\n",
    "        )\n",
    "        \n",
    "        self.in_out_block_sizes = list(zip(blocks_sizes, blocks_sizes[1:]))\n",
    "        self.blocks = nn.ModuleList([ \n",
    "            ResNetLayer(blocks_sizes[0], blocks_sizes[0], n=deepths[0], activation=activation, \n",
    "                        block=block,*args, **kwargs),\n",
    "            *[ResNetLayer(in_channels * block.expansion, \n",
    "                          out_channels, n=n, activation=activation, \n",
    "                          block=block, *args, **kwargs) \n",
    "              for (in_channels, out_channels), n in zip(self.in_out_block_sizes, deepths[1:])]       \n",
    "        ])\n",
    "        \n",
    "    def forward(self, x):\n",
    "        x = self.gate(x)\n",
    "        for block in self.blocks:\n",
    "            x = block(x)\n",
    "        return x"
   ]
  },
  {
   "cell_type": "code",
   "execution_count": 10,
   "id": "b232542b",
   "metadata": {
    "vscode": {
     "languageId": "python"
    }
   },
   "outputs": [],
   "source": [
    "class ResnetDecoder(nn.Module):\n",
    "    \"\"\"\n",
    "    This class represents the tail of ResNet. It performs a global pooling and maps the output to the\n",
    "    correct class by using a fully connected layer.\n",
    "    \"\"\"\n",
    "    def __init__(self, in_features, n_classes):\n",
    "        super().__init__()\n",
    "        self.avg = nn.AdaptiveAvgPool2d((1, 1))\n",
    "        self.decoder = nn.Linear(in_features, n_classes)\n",
    "\n",
    "    def forward(self, x):\n",
    "        x = self.avg(x)\n",
    "        x = x.view(x.size(0), -1)\n",
    "        x = self.decoder(x)\n",
    "        return x"
   ]
  },
  {
   "cell_type": "code",
   "execution_count": 11,
   "id": "dcd66e37",
   "metadata": {
    "vscode": {
     "languageId": "python"
    }
   },
   "outputs": [],
   "source": [
    "class ResNet(nn.Module):\n",
    "    \n",
    "    def __init__(self, in_channels, n_classes, *args, **kwargs):\n",
    "        super().__init__()\n",
    "        self.encoder = ResNetEncoder(in_channels, *args, **kwargs)\n",
    "        self.decoder = ResnetDecoder(self.encoder.blocks[-1].blocks[-1].expanded_channels, n_classes)\n",
    "        \n",
    "    def forward(self, x):\n",
    "        x = self.encoder(x)\n",
    "        x = self.decoder(x)\n",
    "        return x"
   ]
  },
  {
   "cell_type": "code",
   "execution_count": 15,
   "id": "a3587bdd",
   "metadata": {
    "vscode": {
     "languageId": "python"
    }
   },
   "outputs": [],
   "source": [
    "def resnet18(in_channels, n_classes, block=ResNetBasicBlock, *args, **kwargs):\n",
    "    return ResNet(in_channels, n_classes, block=block, deepths=[2, 2, 2, 2], *args, **kwargs)\n",
    "\n",
    "def resnet34(in_channels, n_classes, block=ResNetBasicBlock, *args, **kwargs):\n",
    "    return ResNet(in_channels, n_classes, block=block, deepths=[3, 4, 6, 3], *args, **kwargs)\n",
    "\n",
    "def resnet50(in_channels, n_classes, block=ResNetBottleNeckBlock, *args, **kwargs):\n",
    "    return ResNet(in_channels, n_classes, block=block, deepths=[3, 4, 6, 3], *args, **kwargs)\n",
    "\n",
    "def resnet101(in_channels, n_classes, block=ResNetBottleNeckBlock, *args, **kwargs):\n",
    "    return ResNet(in_channels, n_classes, block=block, deepths=[3, 4, 23, 3], *args, **kwargs)\n",
    "\n",
    "def resnet152(in_channels, n_classes, block=ResNetBottleNeckBlock, *args, **kwargs):\n",
    "    return ResNet(in_channels, n_classes, block=block, deepths=[3, 8, 36, 3], *args, **kwargs)\n"
   ]
  },
  {
   "cell_type": "markdown",
   "id": "4ab3cacd",
   "metadata": {},
   "source": [
    "# Compare Models"
   ]
  },
  {
   "cell_type": "code",
   "execution_count": 2,
   "id": "8ec4e0e3",
   "metadata": {
    "vscode": {
     "languageId": "python"
    }
   },
   "outputs": [
    {
     "name": "stdout",
     "output_type": "stream",
     "text": [
      "----------------------------------------------------------------\n",
      "        Layer (type)               Output Shape         Param #\n",
      "================================================================\n",
      "        Conv2dAuto-1         [-1, 64, 112, 112]           9,408\n",
      "       BatchNorm2d-2         [-1, 64, 112, 112]             128\n",
      "              ReLU-3         [-1, 64, 112, 112]               0\n",
      "         MaxPool2d-4           [-1, 64, 56, 56]               0\n",
      "        Conv2dAuto-5           [-1, 64, 56, 56]          36,864\n",
      "       BatchNorm2d-6           [-1, 64, 56, 56]             128\n",
      "              ReLU-7           [-1, 64, 56, 56]               0\n",
      "        Conv2dAuto-8           [-1, 64, 56, 56]          36,864\n",
      "       BatchNorm2d-9           [-1, 64, 56, 56]             128\n",
      "             ReLU-10           [-1, 64, 56, 56]               0\n",
      " ResNetBasicBlock-11           [-1, 64, 56, 56]               0\n",
      "       Conv2dAuto-12           [-1, 64, 56, 56]          36,864\n",
      "      BatchNorm2d-13           [-1, 64, 56, 56]             128\n",
      "             ReLU-14           [-1, 64, 56, 56]               0\n",
      "       Conv2dAuto-15           [-1, 64, 56, 56]          36,864\n",
      "      BatchNorm2d-16           [-1, 64, 56, 56]             128\n",
      "             ReLU-17           [-1, 64, 56, 56]               0\n",
      " ResNetBasicBlock-18           [-1, 64, 56, 56]               0\n",
      "      ResNetLayer-19           [-1, 64, 56, 56]               0\n",
      "           Conv2d-20          [-1, 128, 28, 28]           8,192\n",
      "      BatchNorm2d-21          [-1, 128, 28, 28]             256\n",
      "       Conv2dAuto-22          [-1, 128, 28, 28]          73,728\n",
      "      BatchNorm2d-23          [-1, 128, 28, 28]             256\n",
      "             ReLU-24          [-1, 128, 28, 28]               0\n",
      "       Conv2dAuto-25          [-1, 128, 28, 28]         147,456\n",
      "      BatchNorm2d-26          [-1, 128, 28, 28]             256\n",
      "             ReLU-27          [-1, 128, 28, 28]               0\n",
      " ResNetBasicBlock-28          [-1, 128, 28, 28]               0\n",
      "       Conv2dAuto-29          [-1, 128, 28, 28]         147,456\n",
      "      BatchNorm2d-30          [-1, 128, 28, 28]             256\n",
      "             ReLU-31          [-1, 128, 28, 28]               0\n",
      "       Conv2dAuto-32          [-1, 128, 28, 28]         147,456\n",
      "      BatchNorm2d-33          [-1, 128, 28, 28]             256\n",
      "             ReLU-34          [-1, 128, 28, 28]               0\n",
      " ResNetBasicBlock-35          [-1, 128, 28, 28]               0\n",
      "      ResNetLayer-36          [-1, 128, 28, 28]               0\n",
      "           Conv2d-37          [-1, 256, 14, 14]          32,768\n",
      "      BatchNorm2d-38          [-1, 256, 14, 14]             512\n",
      "       Conv2dAuto-39          [-1, 256, 14, 14]         294,912\n",
      "      BatchNorm2d-40          [-1, 256, 14, 14]             512\n",
      "             ReLU-41          [-1, 256, 14, 14]               0\n",
      "       Conv2dAuto-42          [-1, 256, 14, 14]         589,824\n",
      "      BatchNorm2d-43          [-1, 256, 14, 14]             512\n",
      "             ReLU-44          [-1, 256, 14, 14]               0\n",
      " ResNetBasicBlock-45          [-1, 256, 14, 14]               0\n",
      "       Conv2dAuto-46          [-1, 256, 14, 14]         589,824\n",
      "      BatchNorm2d-47          [-1, 256, 14, 14]             512\n",
      "             ReLU-48          [-1, 256, 14, 14]               0\n",
      "       Conv2dAuto-49          [-1, 256, 14, 14]         589,824\n",
      "      BatchNorm2d-50          [-1, 256, 14, 14]             512\n",
      "             ReLU-51          [-1, 256, 14, 14]               0\n",
      " ResNetBasicBlock-52          [-1, 256, 14, 14]               0\n",
      "      ResNetLayer-53          [-1, 256, 14, 14]               0\n",
      "           Conv2d-54            [-1, 512, 7, 7]         131,072\n",
      "      BatchNorm2d-55            [-1, 512, 7, 7]           1,024\n",
      "       Conv2dAuto-56            [-1, 512, 7, 7]       1,179,648\n",
      "      BatchNorm2d-57            [-1, 512, 7, 7]           1,024\n",
      "             ReLU-58            [-1, 512, 7, 7]               0\n",
      "       Conv2dAuto-59            [-1, 512, 7, 7]       2,359,296\n",
      "      BatchNorm2d-60            [-1, 512, 7, 7]           1,024\n",
      "             ReLU-61            [-1, 512, 7, 7]               0\n",
      " ResNetBasicBlock-62            [-1, 512, 7, 7]               0\n",
      "       Conv2dAuto-63            [-1, 512, 7, 7]       2,359,296\n",
      "      BatchNorm2d-64            [-1, 512, 7, 7]           1,024\n",
      "             ReLU-65            [-1, 512, 7, 7]               0\n",
      "       Conv2dAuto-66            [-1, 512, 7, 7]       2,359,296\n",
      "      BatchNorm2d-67            [-1, 512, 7, 7]           1,024\n",
      "             ReLU-68            [-1, 512, 7, 7]               0\n",
      " ResNetBasicBlock-69            [-1, 512, 7, 7]               0\n",
      "      ResNetLayer-70            [-1, 512, 7, 7]               0\n",
      "    ResNetEncoder-71            [-1, 512, 7, 7]               0\n",
      "AdaptiveAvgPool2d-72            [-1, 512, 1, 1]               0\n",
      "           Linear-73                 [-1, 1000]         513,000\n",
      "    ResnetDecoder-74                 [-1, 1000]               0\n",
      "================================================================\n",
      "Total params: 11,689,512\n",
      "Trainable params: 11,689,512\n",
      "Non-trainable params: 0\n",
      "----------------------------------------------------------------\n",
      "Input size (MB): 0.57\n",
      "Forward/backward pass size (MB): 65.86\n",
      "Params size (MB): 44.59\n",
      "Estimated Total Size (MB): 111.03\n",
      "----------------------------------------------------------------\n"
     ]
    }
   ],
   "source": [
    "from torchsummary import summary\n",
    "import resnet\n",
    "\n",
    "model = resnet.resnet18(3, 1000)\n",
    "summary(model.cuda(), (3, 224, 224))"
   ]
  },
  {
   "cell_type": "code",
   "execution_count": 3,
   "id": "456c2d3b",
   "metadata": {
    "vscode": {
     "languageId": "python"
    }
   },
   "outputs": [
    {
     "name": "stdout",
     "output_type": "stream",
     "text": [
      "----------------------------------------------------------------\n",
      "        Layer (type)               Output Shape         Param #\n",
      "================================================================\n",
      "            Conv2d-1         [-1, 64, 112, 112]           9,408\n",
      "       BatchNorm2d-2         [-1, 64, 112, 112]             128\n",
      "              ReLU-3         [-1, 64, 112, 112]               0\n",
      "         MaxPool2d-4           [-1, 64, 56, 56]               0\n",
      "            Conv2d-5           [-1, 64, 56, 56]          36,864\n",
      "       BatchNorm2d-6           [-1, 64, 56, 56]             128\n",
      "              ReLU-7           [-1, 64, 56, 56]               0\n",
      "            Conv2d-8           [-1, 64, 56, 56]          36,864\n",
      "       BatchNorm2d-9           [-1, 64, 56, 56]             128\n",
      "             ReLU-10           [-1, 64, 56, 56]               0\n",
      "       BasicBlock-11           [-1, 64, 56, 56]               0\n",
      "           Conv2d-12           [-1, 64, 56, 56]          36,864\n",
      "      BatchNorm2d-13           [-1, 64, 56, 56]             128\n",
      "             ReLU-14           [-1, 64, 56, 56]               0\n",
      "           Conv2d-15           [-1, 64, 56, 56]          36,864\n",
      "      BatchNorm2d-16           [-1, 64, 56, 56]             128\n",
      "             ReLU-17           [-1, 64, 56, 56]               0\n",
      "       BasicBlock-18           [-1, 64, 56, 56]               0\n",
      "           Conv2d-19          [-1, 128, 28, 28]          73,728\n",
      "      BatchNorm2d-20          [-1, 128, 28, 28]             256\n",
      "             ReLU-21          [-1, 128, 28, 28]               0\n",
      "           Conv2d-22          [-1, 128, 28, 28]         147,456\n",
      "      BatchNorm2d-23          [-1, 128, 28, 28]             256\n",
      "           Conv2d-24          [-1, 128, 28, 28]           8,192\n",
      "      BatchNorm2d-25          [-1, 128, 28, 28]             256\n",
      "             ReLU-26          [-1, 128, 28, 28]               0\n",
      "       BasicBlock-27          [-1, 128, 28, 28]               0\n",
      "           Conv2d-28          [-1, 128, 28, 28]         147,456\n",
      "      BatchNorm2d-29          [-1, 128, 28, 28]             256\n",
      "             ReLU-30          [-1, 128, 28, 28]               0\n",
      "           Conv2d-31          [-1, 128, 28, 28]         147,456\n",
      "      BatchNorm2d-32          [-1, 128, 28, 28]             256\n",
      "             ReLU-33          [-1, 128, 28, 28]               0\n",
      "       BasicBlock-34          [-1, 128, 28, 28]               0\n",
      "           Conv2d-35          [-1, 256, 14, 14]         294,912\n",
      "      BatchNorm2d-36          [-1, 256, 14, 14]             512\n",
      "             ReLU-37          [-1, 256, 14, 14]               0\n",
      "           Conv2d-38          [-1, 256, 14, 14]         589,824\n",
      "      BatchNorm2d-39          [-1, 256, 14, 14]             512\n",
      "           Conv2d-40          [-1, 256, 14, 14]          32,768\n",
      "      BatchNorm2d-41          [-1, 256, 14, 14]             512\n",
      "             ReLU-42          [-1, 256, 14, 14]               0\n",
      "       BasicBlock-43          [-1, 256, 14, 14]               0\n",
      "           Conv2d-44          [-1, 256, 14, 14]         589,824\n",
      "      BatchNorm2d-45          [-1, 256, 14, 14]             512\n",
      "             ReLU-46          [-1, 256, 14, 14]               0\n",
      "           Conv2d-47          [-1, 256, 14, 14]         589,824\n",
      "      BatchNorm2d-48          [-1, 256, 14, 14]             512\n",
      "             ReLU-49          [-1, 256, 14, 14]               0\n",
      "       BasicBlock-50          [-1, 256, 14, 14]               0\n",
      "           Conv2d-51            [-1, 512, 7, 7]       1,179,648\n",
      "      BatchNorm2d-52            [-1, 512, 7, 7]           1,024\n",
      "             ReLU-53            [-1, 512, 7, 7]               0\n",
      "           Conv2d-54            [-1, 512, 7, 7]       2,359,296\n",
      "      BatchNorm2d-55            [-1, 512, 7, 7]           1,024\n",
      "           Conv2d-56            [-1, 512, 7, 7]         131,072\n",
      "      BatchNorm2d-57            [-1, 512, 7, 7]           1,024\n",
      "             ReLU-58            [-1, 512, 7, 7]               0\n",
      "       BasicBlock-59            [-1, 512, 7, 7]               0\n",
      "           Conv2d-60            [-1, 512, 7, 7]       2,359,296\n",
      "      BatchNorm2d-61            [-1, 512, 7, 7]           1,024\n",
      "             ReLU-62            [-1, 512, 7, 7]               0\n",
      "           Conv2d-63            [-1, 512, 7, 7]       2,359,296\n",
      "      BatchNorm2d-64            [-1, 512, 7, 7]           1,024\n",
      "             ReLU-65            [-1, 512, 7, 7]               0\n",
      "       BasicBlock-66            [-1, 512, 7, 7]               0\n",
      "AdaptiveAvgPool2d-67            [-1, 512, 1, 1]               0\n",
      "           Linear-68                 [-1, 1000]         513,000\n",
      "================================================================\n",
      "Total params: 11,689,512\n",
      "Trainable params: 11,689,512\n",
      "Non-trainable params: 0\n",
      "----------------------------------------------------------------\n",
      "Input size (MB): 0.57\n",
      "Forward/backward pass size (MB): 62.79\n",
      "Params size (MB): 44.59\n",
      "Estimated Total Size (MB): 107.96\n",
      "----------------------------------------------------------------\n"
     ]
    },
    {
     "name": "stderr",
     "output_type": "stream",
     "text": [
      "/home/paperspace/Documents/Repos/ResNet-PyTorch/venv/lib/python3.8/site-packages/torchvision/models/_utils.py:135: UserWarning: Using 'weights' as positional parameter(s) is deprecated since 0.13 and will be removed in 0.15. Please use keyword parameter(s) instead.\n",
      "  warnings.warn(\n",
      "/home/paperspace/Documents/Repos/ResNet-PyTorch/venv/lib/python3.8/site-packages/torchvision/models/_utils.py:223: UserWarning: Arguments other than a weight enum or `None` for 'weights' are deprecated since 0.13 and will be removed in 0.15. The current behavior is equivalent to passing `weights=None`.\n",
      "  warnings.warn(msg)\n"
     ]
    }
   ],
   "source": [
    "import torchvision.models as models\n",
    "\n",
    "summary(models.resnet18(False).cuda(), (3, 224, 224))"
   ]
  },
  {
   "cell_type": "markdown",
   "id": "b0a84a1a",
   "metadata": {},
   "source": [
    "# Image Augmentation"
   ]
  },
  {
   "cell_type": "code",
   "execution_count": 4,
   "id": "ac856c4a-efd8-4279-bbc4-87576f24697a",
   "metadata": {
    "collapsed": false,
    "gradient": {
     "editing": false,
     "id": "ac856c4a-efd8-4279-bbc4-87576f24697a",
     "kernelId": "1243023c-79c5-4602-af2a-61dba05859cd",
     "source_hidden": false
    },
    "vscode": {
     "languageId": "python"
    }
   },
   "outputs": [],
   "source": [
    "import torch\n",
    "import torchvision\n",
    "import torchvision.transforms as transforms\n",
    "from torch.utils.data import random_split\n",
    "\n",
    "import matplotlib.pyplot as plt\n",
    "import numpy as np"
   ]
  },
  {
   "cell_type": "code",
   "execution_count": 5,
   "id": "246b781b-8f06-46a8-93f5-ab4bb92b1d0a",
   "metadata": {
    "collapsed": false,
    "gradient": {
     "editing": false,
     "id": "246b781b-8f06-46a8-93f5-ab4bb92b1d0a",
     "kernelId": "1243023c-79c5-4602-af2a-61dba05859cd",
     "source_hidden": false
    },
    "vscode": {
     "languageId": "python"
    }
   },
   "outputs": [
    {
     "name": "stdout",
     "output_type": "stream",
     "text": [
      "Files already downloaded and verified\n"
     ]
    }
   ],
   "source": [
    "trainset = torchvision.datasets.CIFAR10(root='./data', train=True,\n",
    "                                        download=True)"
   ]
  },
  {
   "cell_type": "code",
   "execution_count": 6,
   "id": "e8e6d5e2-0872-4923-85ca-63bc3c9b6b7a",
   "metadata": {
    "collapsed": false,
    "gradient": {
     "editing": false,
     "id": "e8e6d5e2-0872-4923-85ca-63bc3c9b6b7a",
     "kernelId": "1243023c-79c5-4602-af2a-61dba05859cd",
     "source_hidden": false
    },
    "vscode": {
     "languageId": "python"
    }
   },
   "outputs": [
    {
     "data": {
      "image/png": "[encoded data removed]",
      "text/plain": [
       "<Figure size 640x480 with 1 Axes>"
      ]
     },
     "metadata": {},
     "output_type": "display_data"
    }
   ],
   "source": [
    "img = trainset[0][0]\n",
    "\n",
    "plt.hist(np.array(img).ravel(), bins=50, density=True);\n",
    "plt.xlabel(\"pixel values\")\n",
    "plt.ylabel(\"relative frequency\")\n",
    "plt.title(\"distribution of pixels\");"
   ]
  },
  {
   "cell_type": "code",
   "execution_count": 7,
   "id": "d93d73e0-8d17-453a-9713-63a54a9f9eb1",
   "metadata": {
    "collapsed": false,
    "gradient": {
     "editing": false,
     "id": "d93d73e0-8d17-453a-9713-63a54a9f9eb1",
     "kernelId": "1243023c-79c5-4602-af2a-61dba05859cd",
     "source_hidden": false
    },
    "vscode": {
     "languageId": "python"
    }
   },
   "outputs": [
    {
     "name": "stdout",
     "output_type": "stream",
     "text": [
      "Files already downloaded and verified\n",
      "Files already downloaded and verified\n",
      "Number of training images:  50000\n"
     ]
    }
   ],
   "source": [
    "transform = transforms.Compose(\n",
    "    [transforms.ToTensor(),\n",
    "     transforms.Normalize((0.5, 0.5, 0.5), (0.5, 0.5, 0.5))])\n",
    "\n",
    "batch_size = 64\n",
    "\n",
    "trainset = torchvision.datasets.CIFAR10(root='./data', train=True,\n",
    "                                        download=True, transform=transform)\n",
    "trainloader = torch.utils.data.DataLoader(trainset, batch_size=batch_size,\n",
    "                                          shuffle=True, num_workers=2)\n",
    "\n",
    "testset = torchvision.datasets.CIFAR10(root='./data', train=False,\n",
    "                                       download=True, transform=transform)\n",
    "\n",
    "testset, valset = random_split(testset,[8000,2000])\n",
    "\n",
    "testloader = torch.utils.data.DataLoader(testset, batch_size=batch_size,\n",
    "                                         shuffle=False, num_workers=2)\n",
    "\n",
    "valloader = torch.utils.data.DataLoader(valset, batch_size=batch_size,\n",
    "                                         shuffle=False, num_workers=2)\n",
    "\n",
    "classes = ('plane', 'car', 'bird', 'cat',\n",
    "           'deer', 'dog', 'frog', 'horse', 'ship', 'truck')\n",
    "\n",
    "print(\"Number of training images: \", len(trainset))"
   ]
  },
  {
   "cell_type": "code",
   "execution_count": 8,
   "id": "ba2a0c97-7efd-4f51-86b8-a2932106a3fa",
   "metadata": {
    "collapsed": false,
    "gradient": {
     "editing": false,
     "id": "ba2a0c97-7efd-4f51-86b8-a2932106a3fa",
     "kernelId": "1243023c-79c5-4602-af2a-61dba05859cd",
     "source_hidden": false
    },
    "vscode": {
     "languageId": "python"
    }
   },
   "outputs": [
    {
     "data": {
      "image/png": "[encoded data removed]",
      "text/plain": [
       "<Figure size 640x480 with 1 Axes>"
      ]
     },
     "metadata": {},
     "output_type": "display_data"
    }
   ],
   "source": [
    "img_normalized = trainset[0][0]\n",
    "\n",
    "plt.hist(np.array(img_normalized).ravel(), bins=50, density=True);\n",
    "plt.xlabel(\"pixel values\")\n",
    "plt.ylabel(\"relative frequency\")\n",
    "plt.title(\"distribution of pixels\");"
   ]
  },
  {
   "cell_type": "markdown",
   "id": "73bb865e-a912-488e-b4e7-bb26ab361e7e",
   "metadata": {
    "gradient": {
     "editing": false,
     "id": "73bb865e-a912-488e-b4e7-bb26ab361e7e",
     "kernelId": "1243023c-79c5-4602-af2a-61dba05859cd"
    }
   },
   "source": [
    "# Train Model"
   ]
  },
  {
   "cell_type": "code",
   "execution_count": 9,
   "id": "8203ec82-cc82-4d22-92b5-1f39bc9ab031",
   "metadata": {
    "collapsed": false,
    "gradient": {
     "editing": false,
     "id": "8203ec82-cc82-4d22-92b5-1f39bc9ab031",
     "kernelId": "1243023c-79c5-4602-af2a-61dba05859cd",
     "source_hidden": false
    },
    "vscode": {
     "languageId": "python"
    }
   },
   "outputs": [],
   "source": [
    "import torch.optim as optim\n",
    "import torch.nn as nn\n",
    "\n",
    "model = resnet.resnet50(3, 10)\n",
    "\n",
    "criterion = nn.CrossEntropyLoss()\n",
    "optimizer = optim.SGD(model.parameters(), lr=0.001, momentum=0.9)"
   ]
  },
  {
   "cell_type": "code",
   "execution_count": 10,
   "id": "c4618caf-5949-43b9-8088-83df65b230de",
   "metadata": {
    "collapsed": false,
    "gradient": {
     "editing": false,
     "id": "c4618caf-5949-43b9-8088-83df65b230de",
     "kernelId": "1243023c-79c5-4602-af2a-61dba05859cd",
     "source_hidden": false
    },
    "vscode": {
     "languageId": "python"
    }
   },
   "outputs": [
    {
     "name": "stdout",
     "output_type": "stream",
     "text": [
      "cuda:0\n"
     ]
    }
   ],
   "source": [
    "# Assuming that we are on a CUDA machine, this should print a CUDA device:\n",
    "device = torch.device(\"cuda:0\" if torch.cuda.is_available() else \"cpu\")\n",
    "print(device)"
   ]
  },
  {
   "cell_type": "code",
   "execution_count": 11,
   "id": "52e5dc3c-77e2-4ef7-8c4b-e16cf32c71cc",
   "metadata": {
    "collapsed": true,
    "gradient": {
     "editing": false,
     "id": "52e5dc3c-77e2-4ef7-8c4b-e16cf32c71cc",
     "kernelId": "1243023c-79c5-4602-af2a-61dba05859cd",
     "source_hidden": false
    },
    "vscode": {
     "languageId": "python"
    }
   },
   "outputs": [
    {
     "data": {
      "text/plain": [
       "ResNet(\n",
       "  (encoder): ResNetEncoder(\n",
       "    (gate): Sequential(\n",
       "      (0): Conv2dAuto(3, 64, kernel_size=(7, 7), stride=(2, 2), padding=(3, 3), bias=False)\n",
       "      (1): BatchNorm2d(64, eps=1e-05, momentum=0.1, affine=True, track_running_stats=True)\n",
       "      (2): ReLU(inplace=True)\n",
       "      (3): MaxPool2d(kernel_size=3, stride=2, padding=1, dilation=1, ceil_mode=False)\n",
       "    )\n",
       "    (blocks): ModuleList(\n",
       "      (0): ResNetLayer(\n",
       "        (blocks): Sequential(\n",
       "          (0): ResNetBottleNeckBlock(\n",
       "            (blocks): Sequential(\n",
       "              (0): Sequential(\n",
       "                (0): Conv2dAuto(64, 64, kernel_size=(1, 1), stride=(1, 1), bias=False)\n",
       "                (1): BatchNorm2d(64, eps=1e-05, momentum=0.1, affine=True, track_running_stats=True)\n",
       "              )\n",
       "              (1): ReLU(inplace=True)\n",
       "              (2): Sequential(\n",
       "                (0): Conv2dAuto(64, 64, kernel_size=(3, 3), stride=(1, 1), padding=(1, 1), bias=False)\n",
       "                (1): BatchNorm2d(64, eps=1e-05, momentum=0.1, affine=True, track_running_stats=True)\n",
       "              )\n",
       "              (3): ReLU(inplace=True)\n",
       "              (4): Sequential(\n",
       "                (0): Conv2dAuto(64, 256, kernel_size=(1, 1), stride=(1, 1), bias=False)\n",
       "                (1): BatchNorm2d(256, eps=1e-05, momentum=0.1, affine=True, track_running_stats=True)\n",
       "              )\n",
       "            )\n",
       "            (activate): ReLU(inplace=True)\n",
       "            (shortcut): Sequential(\n",
       "              (0): Conv2d(64, 256, kernel_size=(1, 1), stride=(1, 1), bias=False)\n",
       "              (1): BatchNorm2d(256, eps=1e-05, momentum=0.1, affine=True, track_running_stats=True)\n",
       "            )\n",
       "          )\n",
       "          (1): ResNetBottleNeckBlock(\n",
       "            (blocks): Sequential(\n",
       "              (0): Sequential(\n",
       "                (0): Conv2dAuto(256, 64, kernel_size=(1, 1), stride=(1, 1), bias=False)\n",
       "                (1): BatchNorm2d(64, eps=1e-05, momentum=0.1, affine=True, track_running_stats=True)\n",
       "              )\n",
       "              (1): ReLU(inplace=True)\n",
       "              (2): Sequential(\n",
       "                (0): Conv2dAuto(64, 64, kernel_size=(3, 3), stride=(1, 1), padding=(1, 1), bias=False)\n",
       "                (1): BatchNorm2d(64, eps=1e-05, momentum=0.1, affine=True, track_running_stats=True)\n",
       "              )\n",
       "              (3): ReLU(inplace=True)\n",
       "              (4): Sequential(\n",
       "                (0): Conv2dAuto(64, 256, kernel_size=(1, 1), stride=(1, 1), bias=False)\n",
       "                (1): BatchNorm2d(256, eps=1e-05, momentum=0.1, affine=True, track_running_stats=True)\n",
       "              )\n",
       "            )\n",
       "            (activate): ReLU(inplace=True)\n",
       "            (shortcut): None\n",
       "          )\n",
       "          (2): ResNetBottleNeckBlock(\n",
       "            (blocks): Sequential(\n",
       "              (0): Sequential(\n",
       "                (0): Conv2dAuto(256, 64, kernel_size=(1, 1), stride=(1, 1), bias=False)\n",
       "                (1): BatchNorm2d(64, eps=1e-05, momentum=0.1, affine=True, track_running_stats=True)\n",
       "              )\n",
       "              (1): ReLU(inplace=True)\n",
       "              (2): Sequential(\n",
       "                (0): Conv2dAuto(64, 64, kernel_size=(3, 3), stride=(1, 1), padding=(1, 1), bias=False)\n",
       "                (1): BatchNorm2d(64, eps=1e-05, momentum=0.1, affine=True, track_running_stats=True)\n",
       "              )\n",
       "              (3): ReLU(inplace=True)\n",
       "              (4): Sequential(\n",
       "                (0): Conv2dAuto(64, 256, kernel_size=(1, 1), stride=(1, 1), bias=False)\n",
       "                (1): BatchNorm2d(256, eps=1e-05, momentum=0.1, affine=True, track_running_stats=True)\n",
       "              )\n",
       "            )\n",
       "            (activate): ReLU(inplace=True)\n",
       "            (shortcut): None\n",
       "          )\n",
       "        )\n",
       "      )\n",
       "      (1): ResNetLayer(\n",
       "        (blocks): Sequential(\n",
       "          (0): ResNetBottleNeckBlock(\n",
       "            (blocks): Sequential(\n",
       "              (0): Sequential(\n",
       "                (0): Conv2dAuto(256, 128, kernel_size=(1, 1), stride=(1, 1), bias=False)\n",
       "                (1): BatchNorm2d(128, eps=1e-05, momentum=0.1, affine=True, track_running_stats=True)\n",
       "              )\n",
       "              (1): ReLU(inplace=True)\n",
       "              (2): Sequential(\n",
       "                (0): Conv2dAuto(128, 128, kernel_size=(3, 3), stride=(2, 2), padding=(1, 1), bias=False)\n",
       "                (1): BatchNorm2d(128, eps=1e-05, momentum=0.1, affine=True, track_running_stats=True)\n",
       "              )\n",
       "              (3): ReLU(inplace=True)\n",
       "              (4): Sequential(\n",
       "                (0): Conv2dAuto(128, 512, kernel_size=(1, 1), stride=(1, 1), bias=False)\n",
       "                (1): BatchNorm2d(512, eps=1e-05, momentum=0.1, affine=True, track_running_stats=True)\n",
       "              )\n",
       "            )\n",
       "            (activate): ReLU(inplace=True)\n",
       "            (shortcut): Sequential(\n",
       "              (0): Conv2d(256, 512, kernel_size=(1, 1), stride=(2, 2), bias=False)\n",
       "              (1): BatchNorm2d(512, eps=1e-05, momentum=0.1, affine=True, track_running_stats=True)\n",
       "            )\n",
       "          )\n",
       "          (1): ResNetBottleNeckBlock(\n",
       "            (blocks): Sequential(\n",
       "              (0): Sequential(\n",
       "                (0): Conv2dAuto(512, 128, kernel_size=(1, 1), stride=(1, 1), bias=False)\n",
       "                (1): BatchNorm2d(128, eps=1e-05, momentum=0.1, affine=True, track_running_stats=True)\n",
       "              )\n",
       "              (1): ReLU(inplace=True)\n",
       "              (2): Sequential(\n",
       "                (0): Conv2dAuto(128, 128, kernel_size=(3, 3), stride=(1, 1), padding=(1, 1), bias=False)\n",
       "                (1): BatchNorm2d(128, eps=1e-05, momentum=0.1, affine=True, track_running_stats=True)\n",
       "              )\n",
       "              (3): ReLU(inplace=True)\n",
       "              (4): Sequential(\n",
       "                (0): Conv2dAuto(128, 512, kernel_size=(1, 1), stride=(1, 1), bias=False)\n",
       "                (1): BatchNorm2d(512, eps=1e-05, momentum=0.1, affine=True, track_running_stats=True)\n",
       "              )\n",
       "            )\n",
       "            (activate): ReLU(inplace=True)\n",
       "            (shortcut): None\n",
       "          )\n",
       "          (2): ResNetBottleNeckBlock(\n",
       "            (blocks): Sequential(\n",
       "              (0): Sequential(\n",
       "                (0): Conv2dAuto(512, 128, kernel_size=(1, 1), stride=(1, 1), bias=False)\n",
       "                (1): BatchNorm2d(128, eps=1e-05, momentum=0.1, affine=True, track_running_stats=True)\n",
       "              )\n",
       "              (1): ReLU(inplace=True)\n",
       "              (2): Sequential(\n",
       "                (0): Conv2dAuto(128, 128, kernel_size=(3, 3), stride=(1, 1), padding=(1, 1), bias=False)\n",
       "                (1): BatchNorm2d(128, eps=1e-05, momentum=0.1, affine=True, track_running_stats=True)\n",
       "              )\n",
       "              (3): ReLU(inplace=True)\n",
       "              (4): Sequential(\n",
       "                (0): Conv2dAuto(128, 512, kernel_size=(1, 1), stride=(1, 1), bias=False)\n",
       "                (1): BatchNorm2d(512, eps=1e-05, momentum=0.1, affine=True, track_running_stats=True)\n",
       "              )\n",
       "            )\n",
       "            (activate): ReLU(inplace=True)\n",
       "            (shortcut): None\n",
       "          )\n",
       "          (3): ResNetBottleNeckBlock(\n",
       "            (blocks): Sequential(\n",
       "              (0): Sequential(\n",
       "                (0): Conv2dAuto(512, 128, kernel_size=(1, 1), stride=(1, 1), bias=False)\n",
       "                (1): BatchNorm2d(128, eps=1e-05, momentum=0.1, affine=True, track_running_stats=True)\n",
       "              )\n",
       "              (1): ReLU(inplace=True)\n",
       "              (2): Sequential(\n",
       "                (0): Conv2dAuto(128, 128, kernel_size=(3, 3), stride=(1, 1), padding=(1, 1), bias=False)\n",
       "                (1): BatchNorm2d(128, eps=1e-05, momentum=0.1, affine=True, track_running_stats=True)\n",
       "              )\n",
       "              (3): ReLU(inplace=True)\n",
       "              (4): Sequential(\n",
       "                (0): Conv2dAuto(128, 512, kernel_size=(1, 1), stride=(1, 1), bias=False)\n",
       "                (1): BatchNorm2d(512, eps=1e-05, momentum=0.1, affine=True, track_running_stats=True)\n",
       "              )\n",
       "            )\n",
       "            (activate): ReLU(inplace=True)\n",
       "            (shortcut): None\n",
       "          )\n",
       "        )\n",
       "      )\n",
       "      (2): ResNetLayer(\n",
       "        (blocks): Sequential(\n",
       "          (0): ResNetBottleNeckBlock(\n",
       "            (blocks): Sequential(\n",
       "              (0): Sequential(\n",
       "                (0): Conv2dAuto(512, 256, kernel_size=(1, 1), stride=(1, 1), bias=False)\n",
       "                (1): BatchNorm2d(256, eps=1e-05, momentum=0.1, affine=True, track_running_stats=True)\n",
       "              )\n",
       "              (1): ReLU(inplace=True)\n",
       "              (2): Sequential(\n",
       "                (0): Conv2dAuto(256, 256, kernel_size=(3, 3), stride=(2, 2), padding=(1, 1), bias=False)\n",
       "                (1): BatchNorm2d(256, eps=1e-05, momentum=0.1, affine=True, track_running_stats=True)\n",
       "              )\n",
       "              (3): ReLU(inplace=True)\n",
       "              (4): Sequential(\n",
       "                (0): Conv2dAuto(256, 1024, kernel_size=(1, 1), stride=(1, 1), bias=False)\n",
       "                (1): BatchNorm2d(1024, eps=1e-05, momentum=0.1, affine=True, track_running_stats=True)\n",
       "              )\n",
       "            )\n",
       "            (activate): ReLU(inplace=True)\n",
       "            (shortcut): Sequential(\n",
       "              (0): Conv2d(512, 1024, kernel_size=(1, 1), stride=(2, 2), bias=False)\n",
       "              (1): BatchNorm2d(1024, eps=1e-05, momentum=0.1, affine=True, track_running_stats=True)\n",
       "            )\n",
       "          )\n",
       "          (1): ResNetBottleNeckBlock(\n",
       "            (blocks): Sequential(\n",
       "              (0): Sequential(\n",
       "                (0): Conv2dAuto(1024, 256, kernel_size=(1, 1), stride=(1, 1), bias=False)\n",
       "                (1): BatchNorm2d(256, eps=1e-05, momentum=0.1, affine=True, track_running_stats=True)\n",
       "              )\n",
       "              (1): ReLU(inplace=True)\n",
       "              (2): Sequential(\n",
       "                (0): Conv2dAuto(256, 256, kernel_size=(3, 3), stride=(1, 1), padding=(1, 1), bias=False)\n",
       "                (1): BatchNorm2d(256, eps=1e-05, momentum=0.1, affine=True, track_running_stats=True)\n",
       "              )\n",
       "              (3): ReLU(inplace=True)\n",
       "              (4): Sequential(\n",
       "                (0): Conv2dAuto(256, 1024, kernel_size=(1, 1), stride=(1, 1), bias=False)\n",
       "                (1): BatchNorm2d(1024, eps=1e-05, momentum=0.1, affine=True, track_running_stats=True)\n",
       "              )\n",
       "            )\n",
       "            (activate): ReLU(inplace=True)\n",
       "            (shortcut): None\n",
       "          )\n",
       "          (2): ResNetBottleNeckBlock(\n",
       "            (blocks): Sequential(\n",
       "              (0): Sequential(\n",
       "                (0): Conv2dAuto(1024, 256, kernel_size=(1, 1), stride=(1, 1), bias=False)\n",
       "                (1): BatchNorm2d(256, eps=1e-05, momentum=0.1, affine=True, track_running_stats=True)\n",
       "              )\n",
       "              (1): ReLU(inplace=True)\n",
       "              (2): Sequential(\n",
       "                (0): Conv2dAuto(256, 256, kernel_size=(3, 3), stride=(1, 1), padding=(1, 1), bias=False)\n",
       "                (1): BatchNorm2d(256, eps=1e-05, momentum=0.1, affine=True, track_running_stats=True)\n",
       "              )\n",
       "              (3): ReLU(inplace=True)\n",
       "              (4): Sequential(\n",
       "                (0): Conv2dAuto(256, 1024, kernel_size=(1, 1), stride=(1, 1), bias=False)\n",
       "                (1): BatchNorm2d(1024, eps=1e-05, momentum=0.1, affine=True, track_running_stats=True)\n",
       "              )\n",
       "            )\n",
       "            (activate): ReLU(inplace=True)\n",
       "            (shortcut): None\n",
       "          )\n",
       "          (3): ResNetBottleNeckBlock(\n",
       "            (blocks): Sequential(\n",
       "              (0): Sequential(\n",
       "                (0): Conv2dAuto(1024, 256, kernel_size=(1, 1), stride=(1, 1), bias=False)\n",
       "                (1): BatchNorm2d(256, eps=1e-05, momentum=0.1, affine=True, track_running_stats=True)\n",
       "              )\n",
       "              (1): ReLU(inplace=True)\n",
       "              (2): Sequential(\n",
       "                (0): Conv2dAuto(256, 256, kernel_size=(3, 3), stride=(1, 1), padding=(1, 1), bias=False)\n",
       "                (1): BatchNorm2d(256, eps=1e-05, momentum=0.1, affine=True, track_running_stats=True)\n",
       "              )\n",
       "              (3): ReLU(inplace=True)\n",
       "              (4): Sequential(\n",
       "                (0): Conv2dAuto(256, 1024, kernel_size=(1, 1), stride=(1, 1), bias=False)\n",
       "                (1): BatchNorm2d(1024, eps=1e-05, momentum=0.1, affine=True, track_running_stats=True)\n",
       "              )\n",
       "            )\n",
       "            (activate): ReLU(inplace=True)\n",
       "            (shortcut): None\n",
       "          )\n",
       "          (4): ResNetBottleNeckBlock(\n",
       "            (blocks): Sequential(\n",
       "              (0): Sequential(\n",
       "                (0): Conv2dAuto(1024, 256, kernel_size=(1, 1), stride=(1, 1), bias=False)\n",
       "                (1): BatchNorm2d(256, eps=1e-05, momentum=0.1, affine=True, track_running_stats=True)\n",
       "              )\n",
       "              (1): ReLU(inplace=True)\n",
       "              (2): Sequential(\n",
       "                (0): Conv2dAuto(256, 256, kernel_size=(3, 3), stride=(1, 1), padding=(1, 1), bias=False)\n",
       "                (1): BatchNorm2d(256, eps=1e-05, momentum=0.1, affine=True, track_running_stats=True)\n",
       "              )\n",
       "              (3): ReLU(inplace=True)\n",
       "              (4): Sequential(\n",
       "                (0): Conv2dAuto(256, 1024, kernel_size=(1, 1), stride=(1, 1), bias=False)\n",
       "                (1): BatchNorm2d(1024, eps=1e-05, momentum=0.1, affine=True, track_running_stats=True)\n",
       "              )\n",
       "            )\n",
       "            (activate): ReLU(inplace=True)\n",
       "            (shortcut): None\n",
       "          )\n",
       "          (5): ResNetBottleNeckBlock(\n",
       "            (blocks): Sequential(\n",
       "              (0): Sequential(\n",
       "                (0): Conv2dAuto(1024, 256, kernel_size=(1, 1), stride=(1, 1), bias=False)\n",
       "                (1): BatchNorm2d(256, eps=1e-05, momentum=0.1, affine=True, track_running_stats=True)\n",
       "              )\n",
       "              (1): ReLU(inplace=True)\n",
       "              (2): Sequential(\n",
       "                (0): Conv2dAuto(256, 256, kernel_size=(3, 3), stride=(1, 1), padding=(1, 1), bias=False)\n",
       "                (1): BatchNorm2d(256, eps=1e-05, momentum=0.1, affine=True, track_running_stats=True)\n",
       "              )\n",
       "              (3): ReLU(inplace=True)\n",
       "              (4): Sequential(\n",
       "                (0): Conv2dAuto(256, 1024, kernel_size=(1, 1), stride=(1, 1), bias=False)\n",
       "                (1): BatchNorm2d(1024, eps=1e-05, momentum=0.1, affine=True, track_running_stats=True)\n",
       "              )\n",
       "            )\n",
       "            (activate): ReLU(inplace=True)\n",
       "            (shortcut): None\n",
       "          )\n",
       "        )\n",
       "      )\n",
       "      (3): ResNetLayer(\n",
       "        (blocks): Sequential(\n",
       "          (0): ResNetBottleNeckBlock(\n",
       "            (blocks): Sequential(\n",
       "              (0): Sequential(\n",
       "                (0): Conv2dAuto(1024, 512, kernel_size=(1, 1), stride=(1, 1), bias=False)\n",
       "                (1): BatchNorm2d(512, eps=1e-05, momentum=0.1, affine=True, track_running_stats=True)\n",
       "              )\n",
       "              (1): ReLU(inplace=True)\n",
       "              (2): Sequential(\n",
       "                (0): Conv2dAuto(512, 512, kernel_size=(3, 3), stride=(2, 2), padding=(1, 1), bias=False)\n",
       "                (1): BatchNorm2d(512, eps=1e-05, momentum=0.1, affine=True, track_running_stats=True)\n",
       "              )\n",
       "              (3): ReLU(inplace=True)\n",
       "              (4): Sequential(\n",
       "                (0): Conv2dAuto(512, 2048, kernel_size=(1, 1), stride=(1, 1), bias=False)\n",
       "                (1): BatchNorm2d(2048, eps=1e-05, momentum=0.1, affine=True, track_running_stats=True)\n",
       "              )\n",
       "            )\n",
       "            (activate): ReLU(inplace=True)\n",
       "            (shortcut): Sequential(\n",
       "              (0): Conv2d(1024, 2048, kernel_size=(1, 1), stride=(2, 2), bias=False)\n",
       "              (1): BatchNorm2d(2048, eps=1e-05, momentum=0.1, affine=True, track_running_stats=True)\n",
       "            )\n",
       "          )\n",
       "          (1): ResNetBottleNeckBlock(\n",
       "            (blocks): Sequential(\n",
       "              (0): Sequential(\n",
       "                (0): Conv2dAuto(2048, 512, kernel_size=(1, 1), stride=(1, 1), bias=False)\n",
       "                (1): BatchNorm2d(512, eps=1e-05, momentum=0.1, affine=True, track_running_stats=True)\n",
       "              )\n",
       "              (1): ReLU(inplace=True)\n",
       "              (2): Sequential(\n",
       "                (0): Conv2dAuto(512, 512, kernel_size=(3, 3), stride=(1, 1), padding=(1, 1), bias=False)\n",
       "                (1): BatchNorm2d(512, eps=1e-05, momentum=0.1, affine=True, track_running_stats=True)\n",
       "              )\n",
       "              (3): ReLU(inplace=True)\n",
       "              (4): Sequential(\n",
       "                (0): Conv2dAuto(512, 2048, kernel_size=(1, 1), stride=(1, 1), bias=False)\n",
       "                (1): BatchNorm2d(2048, eps=1e-05, momentum=0.1, affine=True, track_running_stats=True)\n",
       "              )\n",
       "            )\n",
       "            (activate): ReLU(inplace=True)\n",
       "            (shortcut): None\n",
       "          )\n",
       "          (2): ResNetBottleNeckBlock(\n",
       "            (blocks): Sequential(\n",
       "              (0): Sequential(\n",
       "                (0): Conv2dAuto(2048, 512, kernel_size=(1, 1), stride=(1, 1), bias=False)\n",
       "                (1): BatchNorm2d(512, eps=1e-05, momentum=0.1, affine=True, track_running_stats=True)\n",
       "              )\n",
       "              (1): ReLU(inplace=True)\n",
       "              (2): Sequential(\n",
       "                (0): Conv2dAuto(512, 512, kernel_size=(3, 3), stride=(1, 1), padding=(1, 1), bias=False)\n",
       "                (1): BatchNorm2d(512, eps=1e-05, momentum=0.1, affine=True, track_running_stats=True)\n",
       "              )\n",
       "              (3): ReLU(inplace=True)\n",
       "              (4): Sequential(\n",
       "                (0): Conv2dAuto(512, 2048, kernel_size=(1, 1), stride=(1, 1), bias=False)\n",
       "                (1): BatchNorm2d(2048, eps=1e-05, momentum=0.1, affine=True, track_running_stats=True)\n",
       "              )\n",
       "            )\n",
       "            (activate): ReLU(inplace=True)\n",
       "            (shortcut): None\n",
       "          )\n",
       "        )\n",
       "      )\n",
       "    )\n",
       "  )\n",
       "  (decoder): ResnetDecoder(\n",
       "    (avg): AdaptiveAvgPool2d(output_size=(1, 1))\n",
       "    (decoder): Linear(in_features=2048, out_features=10, bias=True)\n",
       "  )\n",
       ")"
      ]
     },
     "execution_count": 11,
     "metadata": {},
     "output_type": "execute_result"
    }
   ],
   "source": [
    "model.to(device)"
   ]
  },
  {
   "cell_type": "code",
   "execution_count": 13,
   "id": "d5630c93",
   "metadata": {
    "vscode": {
     "languageId": "python"
    }
   },
   "outputs": [
    {
     "name": "stdout",
     "output_type": "stream",
     "text": [
      "epoch: 1, batch:   150, loss: 2.190\n",
      "epoch: 1, batch:   300, loss: 1.979\n",
      "epoch: 1, batch:   450, loss: 1.736\n",
      "epoch: 1, batch:   600, loss: 1.650\n",
      "epoch: 1, batch:   750, loss: 1.589\n",
      "Finished epoch: 1, loss: 1.517\n",
      "epoch: 2, batch:   150, loss: 1.489\n",
      "epoch: 2, batch:   300, loss: 1.454\n",
      "epoch: 2, batch:   450, loss: 1.437\n",
      "epoch: 2, batch:   600, loss: 1.421\n",
      "epoch: 2, batch:   750, loss: 1.409\n",
      "Finished epoch: 2, loss: 1.358\n",
      "epoch: 3, batch:   150, loss: 1.292\n",
      "epoch: 3, batch:   300, loss: 1.229\n",
      "epoch: 3, batch:   450, loss: 1.234\n",
      "epoch: 3, batch:   600, loss: 1.236\n",
      "epoch: 3, batch:   750, loss: 1.256\n",
      "Finished epoch: 3, loss: 1.210\n",
      "epoch: 4, batch:   150, loss: 1.078\n",
      "epoch: 4, batch:   300, loss: 1.084\n",
      "epoch: 4, batch:   450, loss: 1.064\n",
      "epoch: 4, batch:   600, loss: 1.078\n",
      "epoch: 4, batch:   750, loss: 1.065\n",
      "Finished epoch: 4, loss: 1.095\n",
      "epoch: 5, batch:   150, loss: 0.922\n",
      "epoch: 5, batch:   300, loss: 0.956\n",
      "epoch: 5, batch:   450, loss: 0.922\n",
      "epoch: 5, batch:   600, loss: 0.927\n",
      "epoch: 5, batch:   750, loss: 0.916\n",
      "Finished epoch: 5, loss: 0.922\n",
      "epoch: 6, batch:   150, loss: 0.774\n",
      "epoch: 6, batch:   300, loss: 0.778\n",
      "epoch: 6, batch:   450, loss: 0.823\n",
      "epoch: 6, batch:   600, loss: 0.847\n",
      "epoch: 6, batch:   750, loss: 0.834\n",
      "Finished epoch: 6, loss: 0.783\n",
      "epoch: 7, batch:   150, loss: 0.618\n",
      "epoch: 7, batch:   300, loss: 0.692\n",
      "epoch: 7, batch:   450, loss: 0.690\n",
      "epoch: 7, batch:   600, loss: 0.737\n",
      "epoch: 7, batch:   750, loss: 0.801\n",
      "Finished epoch: 7, loss: 0.809\n",
      "epoch: 8, batch:   150, loss: 0.573\n",
      "epoch: 8, batch:   300, loss: 0.579\n",
      "epoch: 8, batch:   450, loss: 0.618\n",
      "epoch: 8, batch:   600, loss: 0.625\n",
      "epoch: 8, batch:   750, loss: 0.642\n",
      "Finished epoch: 8, loss: 0.645\n",
      "epoch: 9, batch:   150, loss: 0.485\n",
      "epoch: 9, batch:   300, loss: 0.481\n",
      "epoch: 9, batch:   450, loss: 0.495\n",
      "epoch: 9, batch:   600, loss: 0.539\n",
      "epoch: 9, batch:   750, loss: 0.532\n",
      "Finished epoch: 9, loss: 0.553\n",
      "epoch: 10, batch:   150, loss: 0.353\n",
      "epoch: 10, batch:   300, loss: 0.404\n",
      "epoch: 10, batch:   450, loss: 0.432\n",
      "epoch: 10, batch:   600, loss: 0.479\n",
      "epoch: 10, batch:   750, loss: 0.514\n",
      "Finished epoch: 10, loss: 0.488\n",
      "epoch: 11, batch:   150, loss: 0.399\n",
      "epoch: 11, batch:   300, loss: 0.368\n",
      "epoch: 11, batch:   450, loss: 0.375\n",
      "epoch: 11, batch:   600, loss: 0.440\n",
      "epoch: 11, batch:   750, loss: 0.405\n",
      "Finished epoch: 11, loss: 0.443\n",
      "epoch: 12, batch:   150, loss: 0.272\n",
      "epoch: 12, batch:   300, loss: 0.270\n",
      "epoch: 12, batch:   450, loss: 0.283\n",
      "epoch: 12, batch:   600, loss: 0.325\n",
      "epoch: 12, batch:   750, loss: 0.340\n",
      "Finished epoch: 12, loss: 0.404\n",
      "epoch: 13, batch:   150, loss: 0.227\n",
      "epoch: 13, batch:   300, loss: 0.222\n",
      "epoch: 13, batch:   450, loss: 0.243\n",
      "epoch: 13, batch:   600, loss: 0.254\n",
      "epoch: 13, batch:   750, loss: 0.311\n",
      "Finished epoch: 13, loss: 0.314\n",
      "epoch: 14, batch:   150, loss: 0.178\n",
      "epoch: 14, batch:   300, loss: 0.229\n",
      "epoch: 14, batch:   450, loss: 0.239\n",
      "epoch: 14, batch:   600, loss: 0.218\n",
      "epoch: 14, batch:   750, loss: 0.289\n",
      "Finished epoch: 14, loss: 0.279\n",
      "epoch: 15, batch:   150, loss: 0.144\n",
      "epoch: 15, batch:   300, loss: 0.170\n",
      "epoch: 15, batch:   450, loss: 0.191\n",
      "epoch: 15, batch:   600, loss: 0.196\n",
      "epoch: 15, batch:   750, loss: 0.206\n",
      "Finished epoch: 15, loss: 0.215\n",
      "epoch: 16, batch:   150, loss: 0.137\n",
      "epoch: 16, batch:   300, loss: 0.131\n",
      "epoch: 16, batch:   450, loss: 0.152\n",
      "epoch: 16, batch:   600, loss: 0.164\n",
      "epoch: 16, batch:   750, loss: 0.193\n",
      "Finished epoch: 16, loss: 0.210\n",
      "epoch: 17, batch:   150, loss: 0.141\n",
      "epoch: 17, batch:   300, loss: 0.122\n",
      "epoch: 17, batch:   450, loss: 0.181\n",
      "epoch: 17, batch:   600, loss: 0.170\n",
      "epoch: 17, batch:   750, loss: 0.176\n",
      "Finished epoch: 17, loss: 0.175\n",
      "epoch: 18, batch:   150, loss: 0.118\n",
      "epoch: 18, batch:   300, loss: 0.097\n",
      "epoch: 18, batch:   450, loss: 0.099\n",
      "epoch: 18, batch:   600, loss: 0.114\n",
      "epoch: 18, batch:   750, loss: 0.123\n",
      "Finished epoch: 18, loss: 0.154\n",
      "epoch: 19, batch:   150, loss: 0.098\n",
      "epoch: 19, batch:   300, loss: 0.093\n",
      "epoch: 19, batch:   450, loss: 0.094\n",
      "epoch: 19, batch:   600, loss: 0.168\n",
      "epoch: 19, batch:   750, loss: 0.125\n",
      "Finished epoch: 19, loss: 0.122\n",
      "epoch: 20, batch:   150, loss: 0.069\n",
      "epoch: 20, batch:   300, loss: 0.077\n",
      "epoch: 20, batch:   450, loss: 0.086\n",
      "epoch: 20, batch:   600, loss: 0.089\n",
      "epoch: 20, batch:   750, loss: 0.111\n",
      "Finished epoch: 20, loss: 0.125\n",
      "epoch: 21, batch:   150, loss: 0.083\n",
      "epoch: 21, batch:   300, loss: 0.071\n",
      "epoch: 21, batch:   450, loss: 0.074\n",
      "epoch: 21, batch:   600, loss: 0.081\n",
      "epoch: 21, batch:   750, loss: 0.099\n",
      "Finished epoch: 21, loss: 0.147\n",
      "epoch: 22, batch:   150, loss: 0.086\n",
      "epoch: 22, batch:   300, loss: 0.073\n",
      "epoch: 22, batch:   450, loss: 0.086\n",
      "epoch: 22, batch:   600, loss: 0.084\n",
      "epoch: 22, batch:   750, loss: 0.076\n",
      "Finished epoch: 22, loss: 0.106\n",
      "epoch: 23, batch:   150, loss: 0.096\n",
      "epoch: 23, batch:   300, loss: 0.071\n",
      "epoch: 23, batch:   450, loss: 0.062\n",
      "epoch: 23, batch:   600, loss: 0.074\n",
      "epoch: 23, batch:   750, loss: 0.073\n",
      "Finished epoch: 23, loss: 0.098\n",
      "epoch: 24, batch:   150, loss: 0.071\n",
      "epoch: 24, batch:   300, loss: 0.058\n",
      "epoch: 24, batch:   450, loss: 0.051\n",
      "epoch: 24, batch:   600, loss: 0.061\n",
      "epoch: 24, batch:   750, loss: 0.065\n",
      "Finished epoch: 24, loss: 0.078\n",
      "epoch: 25, batch:   150, loss: 0.059\n",
      "epoch: 25, batch:   300, loss: 0.054\n",
      "epoch: 25, batch:   450, loss: 0.054\n",
      "epoch: 25, batch:   600, loss: 0.063\n",
      "epoch: 25, batch:   750, loss: 0.060\n",
      "Finished epoch: 25, loss: 0.065\n",
      "epoch: 26, batch:   150, loss: 0.046\n",
      "epoch: 26, batch:   300, loss: 0.056\n",
      "epoch: 26, batch:   450, loss: 0.052\n",
      "epoch: 26, batch:   600, loss: 0.054\n",
      "epoch: 26, batch:   750, loss: 0.053\n",
      "Finished epoch: 26, loss: 0.057\n",
      "epoch: 27, batch:   150, loss: 0.055\n",
      "epoch: 27, batch:   300, loss: 0.044\n",
      "epoch: 27, batch:   450, loss: 0.043\n",
      "epoch: 27, batch:   600, loss: 0.058\n",
      "epoch: 27, batch:   750, loss: 0.068\n",
      "Finished epoch: 27, loss: 0.065\n",
      "epoch: 28, batch:   150, loss: 0.048\n",
      "epoch: 28, batch:   300, loss: 0.042\n",
      "epoch: 28, batch:   450, loss: 0.039\n",
      "epoch: 28, batch:   600, loss: 0.046\n",
      "epoch: 28, batch:   750, loss: 0.054\n",
      "Finished epoch: 28, loss: 0.047\n",
      "epoch: 29, batch:   150, loss: 0.031\n",
      "epoch: 29, batch:   300, loss: 0.023\n",
      "epoch: 29, batch:   450, loss: 0.032\n",
      "epoch: 29, batch:   600, loss: 0.034\n",
      "epoch: 29, batch:   750, loss: 0.042\n",
      "Finished epoch: 29, loss: 0.043\n",
      "epoch: 30, batch:   150, loss: 0.032\n",
      "epoch: 30, batch:   300, loss: 0.035\n",
      "epoch: 30, batch:   450, loss: 0.036\n",
      "epoch: 30, batch:   600, loss: 0.031\n",
      "epoch: 30, batch:   750, loss: 0.030\n",
      "Finished epoch: 30, loss: 0.044\n",
      "epoch: 31, batch:   150, loss: 0.031\n",
      "epoch: 31, batch:   300, loss: 0.027\n",
      "epoch: 31, batch:   450, loss: 0.036\n",
      "epoch: 31, batch:   600, loss: 0.038\n",
      "epoch: 31, batch:   750, loss: 0.038\n",
      "Finished epoch: 31, loss: 0.050\n",
      "epoch: 32, batch:   150, loss: 0.045\n",
      "epoch: 32, batch:   300, loss: 0.040\n",
      "epoch: 32, batch:   450, loss: 0.038\n",
      "epoch: 32, batch:   600, loss: 0.033\n",
      "epoch: 32, batch:   750, loss: 0.041\n",
      "Finished epoch: 32, loss: 0.046\n",
      "epoch: 33, batch:   150, loss: 0.034\n",
      "epoch: 33, batch:   300, loss: 0.030\n",
      "epoch: 33, batch:   450, loss: 0.038\n",
      "epoch: 33, batch:   600, loss: 0.043\n",
      "epoch: 33, batch:   750, loss: 0.050\n",
      "Finished epoch: 33, loss: 0.044\n",
      "epoch: 34, batch:   150, loss: 0.040\n",
      "epoch: 34, batch:   300, loss: 0.032\n",
      "epoch: 34, batch:   450, loss: 0.038\n",
      "epoch: 34, batch:   600, loss: 0.035\n",
      "epoch: 34, batch:   750, loss: 0.043\n",
      "Finished epoch: 34, loss: 0.041\n",
      "epoch: 35, batch:   150, loss: 0.029\n",
      "epoch: 35, batch:   300, loss: 0.033\n",
      "epoch: 35, batch:   450, loss: 0.029\n",
      "epoch: 35, batch:   600, loss: 0.033\n",
      "epoch: 35, batch:   750, loss: 0.033\n",
      "Finished epoch: 35, loss: 0.082\n",
      "epoch: 36, batch:   150, loss: 0.038\n",
      "epoch: 36, batch:   300, loss: 0.036\n",
      "epoch: 36, batch:   450, loss: 0.033\n",
      "epoch: 36, batch:   600, loss: 0.031\n",
      "epoch: 36, batch:   750, loss: 0.050\n",
      "Finished epoch: 36, loss: 0.050\n",
      "epoch: 37, batch:   150, loss: 0.032\n",
      "epoch: 37, batch:   300, loss: 0.027\n",
      "epoch: 37, batch:   450, loss: 0.030\n",
      "epoch: 37, batch:   600, loss: 0.024\n",
      "epoch: 37, batch:   750, loss: 0.028\n",
      "Finished epoch: 37, loss: 0.026\n",
      "epoch: 38, batch:   150, loss: 0.023\n",
      "epoch: 38, batch:   300, loss: 0.023\n",
      "epoch: 38, batch:   450, loss: 0.017\n",
      "epoch: 38, batch:   600, loss: 0.021\n",
      "epoch: 38, batch:   750, loss: 0.020\n",
      "Finished epoch: 38, loss: 0.021\n",
      "epoch: 39, batch:   150, loss: 0.022\n",
      "epoch: 39, batch:   300, loss: 0.016\n",
      "epoch: 39, batch:   450, loss: 0.022\n",
      "epoch: 39, batch:   600, loss: 0.022\n",
      "epoch: 39, batch:   750, loss: 0.028\n",
      "Finished epoch: 39, loss: 0.031\n",
      "epoch: 40, batch:   150, loss: 0.029\n",
      "epoch: 40, batch:   300, loss: 0.021\n",
      "epoch: 40, batch:   450, loss: 0.022\n",
      "epoch: 40, batch:   600, loss: 0.025\n",
      "epoch: 40, batch:   750, loss: 0.023\n",
      "Finished epoch: 40, loss: 0.020\n",
      "epoch: 41, batch:   150, loss: 0.015\n",
      "epoch: 41, batch:   300, loss: 0.017\n",
      "epoch: 41, batch:   450, loss: 0.016\n",
      "epoch: 41, batch:   600, loss: 0.017\n",
      "epoch: 41, batch:   750, loss: 0.022\n",
      "Finished epoch: 41, loss: 0.029\n",
      "epoch: 42, batch:   150, loss: 0.024\n",
      "epoch: 42, batch:   300, loss: 0.022\n",
      "epoch: 42, batch:   450, loss: 0.024\n",
      "epoch: 42, batch:   600, loss: 0.022\n",
      "epoch: 42, batch:   750, loss: 0.024\n",
      "Finished epoch: 42, loss: 0.027\n",
      "epoch: 43, batch:   150, loss: 0.021\n",
      "epoch: 43, batch:   300, loss: 0.018\n",
      "epoch: 43, batch:   450, loss: 0.015\n",
      "epoch: 43, batch:   600, loss: 0.017\n",
      "epoch: 43, batch:   750, loss: 0.022\n",
      "Finished epoch: 43, loss: 0.028\n",
      "epoch: 44, batch:   150, loss: 0.028\n",
      "epoch: 44, batch:   300, loss: 0.021\n",
      "epoch: 44, batch:   450, loss: 0.029\n",
      "epoch: 44, batch:   600, loss: 0.019\n",
      "epoch: 44, batch:   750, loss: 0.026\n",
      "Finished epoch: 44, loss: 0.031\n",
      "epoch: 45, batch:   150, loss: 0.015\n",
      "epoch: 45, batch:   300, loss: 0.016\n",
      "epoch: 45, batch:   450, loss: 0.017\n",
      "epoch: 45, batch:   600, loss: 0.017\n",
      "epoch: 45, batch:   750, loss: 0.019\n",
      "Finished epoch: 45, loss: 0.057\n",
      "epoch: 46, batch:   150, loss: 0.023\n",
      "epoch: 46, batch:   300, loss: 0.018\n",
      "epoch: 46, batch:   450, loss: 0.021\n",
      "epoch: 46, batch:   600, loss: 0.018\n",
      "epoch: 46, batch:   750, loss: 0.026\n",
      "Finished epoch: 46, loss: 0.034\n",
      "epoch: 47, batch:   150, loss: 0.025\n",
      "epoch: 47, batch:   300, loss: 0.015\n",
      "epoch: 47, batch:   450, loss: 0.014\n",
      "epoch: 47, batch:   600, loss: 0.015\n",
      "epoch: 47, batch:   750, loss: 0.013\n",
      "Finished epoch: 47, loss: 0.025\n",
      "epoch: 48, batch:   150, loss: 0.014\n",
      "epoch: 48, batch:   300, loss: 0.011\n",
      "epoch: 48, batch:   450, loss: 0.013\n",
      "epoch: 48, batch:   600, loss: 0.014\n",
      "epoch: 48, batch:   750, loss: 0.014\n",
      "Finished epoch: 48, loss: 0.030\n",
      "epoch: 49, batch:   150, loss: 0.020\n",
      "epoch: 49, batch:   300, loss: 0.012\n",
      "epoch: 49, batch:   450, loss: 0.013\n",
      "epoch: 49, batch:   600, loss: 0.013\n",
      "epoch: 49, batch:   750, loss: 0.015\n",
      "Finished epoch: 49, loss: 0.015\n",
      "epoch: 50, batch:   150, loss: 0.013\n",
      "epoch: 50, batch:   300, loss: 0.011\n",
      "epoch: 50, batch:   450, loss: 0.010\n",
      "epoch: 50, batch:   600, loss: 0.008\n",
      "epoch: 50, batch:   750, loss: 0.013\n",
      "Finished epoch: 50, loss: 0.021\n",
      "Finished Training\n"
     ]
    }
   ],
   "source": [
    "epochs = []\n",
    "train_losses = []\n",
    "val_losses = []\n",
    "\n",
    "ckpt_batch = 150\n",
    "\n",
    "for epoch in range(50):  # loop over the dataset multiple times\n",
    "\n",
    "    running_loss = 0.0\n",
    "    train_loss = 0\n",
    "    model.train()\n",
    "    for i, data in enumerate(trainloader, 0):\n",
    "\n",
    "        # get the inputs; data is a list of [inputs, labels]\n",
    "        inputs, labels = data[0].to(device), data[1].to(device)\n",
    "\n",
    "        # zero the parameter gradients\n",
    "        optimizer.zero_grad()\n",
    "\n",
    "        # forward + backward + optimize\n",
    "        outputs = model(inputs)\n",
    "        loss = criterion(outputs, labels)\n",
    "        loss.backward()\n",
    "        optimizer.step()\n",
    "\n",
    "        # print statistics\n",
    "        running_loss += loss.item()\n",
    "        \n",
    "        # print checkpoints every 100 batches or at the end of an epoch\n",
    "        if i % ckpt_batch == ckpt_batch-1 or i==len(trainloader)-1:\n",
    "            if i==len(trainloader)-1:\n",
    "                print('Finished epoch: %d, loss: %.3f' % (epoch + 1, running_loss / (i % ckpt_batch + 1)))\n",
    "            elif i % ckpt_batch == ckpt_batch-1:    \n",
    "                print('epoch: %d, batch: %5d, loss: %.3f' % (epoch + 1, i + 1, running_loss / (i % ckpt_batch + 1)))\n",
    "            train_loss += running_loss / (i % ckpt_batch + 1)\n",
    "            running_loss = 0.0\n",
    "\n",
    "    val_loss = 0.0\n",
    "    model.eval()\n",
    "    with torch.inference_mode():\n",
    "        for i, data in enumerate(valloader, 0):\n",
    "\n",
    "            inputs, labels = data[0].to(device), data[1].to(device)\n",
    "\n",
    "            outputs = model(inputs)\n",
    "            loss = criterion(outputs, labels)\n",
    "            val_loss += loss.item()\n",
    "\n",
    "    epochs.append(epoch+1)\n",
    "    train_losses.append(train_loss)\n",
    "    val_losses.append(val_loss / len(valloader))\n",
    "\n",
    "\n",
    "print('Finished Training')"
   ]
  },
  {
   "cell_type": "markdown",
   "id": "760556b8-3b9b-4565-be1a-3adc9cceee95",
   "metadata": {
    "gradient": {
     "editing": false,
     "id": "760556b8-3b9b-4565-be1a-3adc9cceee95",
     "kernelId": "1243023c-79c5-4602-af2a-61dba05859cd"
    }
   },
   "source": [
    "### Save Model"
   ]
  },
  {
   "cell_type": "code",
   "execution_count": 14,
   "id": "626b75dc-afc3-4134-aaec-90d6d9c623b2",
   "metadata": {
    "collapsed": false,
    "gradient": {
     "editing": false,
     "id": "626b75dc-afc3-4134-aaec-90d6d9c623b2",
     "kernelId": "1243023c-79c5-4602-af2a-61dba05859cd",
     "source_hidden": false
    },
    "vscode": {
     "languageId": "python"
    }
   },
   "outputs": [],
   "source": [
    "model_path = './models'\n",
    "os.makedirs(model_path, exist_ok = True) \n",
    "torch.save(model.state_dict(), os.path.join(model_path, 'resnet_cifar.pt'))"
   ]
  },
  {
   "cell_type": "markdown",
   "id": "f1e0b027-4c25-477b-879e-123695d93682",
   "metadata": {
    "gradient": {
     "editing": false,
     "id": "f1e0b027-4c25-477b-879e-123695d93682",
     "kernelId": "1243023c-79c5-4602-af2a-61dba05859cd"
    }
   },
   "source": [
    "# Visualize Training Loss"
   ]
  },
  {
   "cell_type": "code",
   "execution_count": 16,
   "id": "d329cae6-e708-4c7b-8de3-8912c7eb8bfc",
   "metadata": {
    "collapsed": false,
    "gradient": {
     "editing": false,
     "id": "d329cae6-e708-4c7b-8de3-8912c7eb8bfc",
     "kernelId": "1243023c-79c5-4602-af2a-61dba05859cd",
     "source_hidden": false
    },
    "vscode": {
     "languageId": "python"
    }
   },
   "outputs": [
    {
     "data": {
      "image/png": "[encoded data removed]",
      "text/plain": [
       "<Figure size 640x480 with 1 Axes>"
      ]
     },
     "metadata": {},
     "output_type": "display_data"
    }
   ],
   "source": [
    "plt.plot(epochs, train_losses, 'g', label='Training loss')\n",
    "plt.plot(epochs, val_losses, 'b', label='validation loss')\n",
    "plt.title('Training and Validation loss')\n",
    "plt.xlabel('Epochs')\n",
    "plt.ylabel('Loss')\n",
    "plt.legend()\n",
    "plt.show()"
   ]
  },
  {
   "cell_type": "markdown",
   "id": "04100b16-c7d7-473f-a503-d36c3d78bf95",
   "metadata": {
    "gradient": {
     "editing": false,
     "id": "04100b16-c7d7-473f-a503-d36c3d78bf95",
     "kernelId": "1243023c-79c5-4602-af2a-61dba05859cd"
    }
   },
   "source": [
    "# Load Trained Model"
   ]
  },
  {
   "cell_type": "code",
   "execution_count": 19,
   "id": "e3d9d49b-a76c-4895-8f51-989a603f228f",
   "metadata": {
    "collapsed": false,
    "gradient": {
     "editing": false,
     "id": "e3d9d49b-a76c-4895-8f51-989a603f228f",
     "kernelId": "1243023c-79c5-4602-af2a-61dba05859cd",
     "source_hidden": false
    },
    "vscode": {
     "languageId": "python"
    }
   },
   "outputs": [
    {
     "data": {
      "text/plain": [
       "<All keys matched successfully>"
      ]
     },
     "execution_count": 19,
     "metadata": {},
     "output_type": "execute_result"
    }
   ],
   "source": [
    "model = resnet.resnet50(3, 10)\n",
    "model.load_state_dict(torch.load(os.path.join(model_path, 'resnet_cifar.pt')))"
   ]
  },
  {
   "cell_type": "code",
   "execution_count": 36,
   "id": "78b510bd-948f-4bd2-8da1-918090896880",
   "metadata": {
    "collapsed": false,
    "gradient": {
     "editing": false,
     "id": "78b510bd-948f-4bd2-8da1-918090896880",
     "kernelId": "1243023c-79c5-4602-af2a-61dba05859cd",
     "source_hidden": false
    },
    "vscode": {
     "languageId": "python"
    }
   },
   "outputs": [
    {
     "name": "stdout",
     "output_type": "stream",
     "text": [
      "Accuracy of the network on the 10,000 test images: 70.5%\n",
      "Accuracy for class plane is: 76.6%\n",
      "Accuracy for class car   is: 80.0%\n",
      "Accuracy for class bird  is: 63.2%\n",
      "Accuracy for class cat   is: 53.4%\n",
      "Accuracy for class deer  is: 60.6%\n",
      "Accuracy for class dog   is: 59.8%\n",
      "Accuracy for class frog  is: 77.3%\n",
      "Accuracy for class horse is: 72.4%\n",
      "Accuracy for class ship  is: 85.2%\n",
      "Accuracy for class truck is: 76.4%\n"
     ]
    }
   ],
   "source": [
    "## Pretrained Model\n",
    "correct = 0\n",
    "total = 0\n",
    "\n",
    "correct_pred = {classname: 0 for classname in classes}\n",
    "total_pred = {classname: 0 for classname in classes}\n",
    "\n",
    "# Since we're not training, we don't need to calculate the gradients for our outputs\n",
    "model.to(device)\n",
    "model.eval()\n",
    "\n",
    "with torch.inference_mode():\n",
    "    for data in testloader:\n",
    "        inputs, labels = data[0].to(device), data[1].to(device)\n",
    "\n",
    "        # calculate outputs by running images through the network\n",
    "        outputs = model(inputs)\n",
    "\n",
    "        # the class with the highest energy is what we choose as prediction\n",
    "        _, predictions = torch.max(outputs.data, 1)\n",
    "        total += labels.size(0)\n",
    "        correct += (predictions == labels).sum().item()\n",
    "\n",
    "        for label, prediction in zip(labels, predictions):\n",
    "            if label == prediction:\n",
    "                correct_pred[classes[label]] += 1\n",
    "            total_pred[classes[label]] += 1\n",
    "\n",
    "print('Accuracy of the network on the 10,000 test images: %.1f%%' % (\n",
    "    100 * correct / total))\n",
    "\n",
    "for classname, correct_count in correct_pred.items():\n",
    "    accuracy = 100 * float(correct_count) / total_pred[classname]\n",
    "    print(\"Accuracy for class {:5s} is: {:.1f}%\".format(classname,\n",
    "                                                   accuracy))"
   ]
  },
  {
   "cell_type": "code",
   "execution_count": null,
   "id": "056a98b4",
   "metadata": {
    "vscode": {
     "languageId": "python"
    }
   },
   "outputs": [],
   "source": []
  }
 ],
 "metadata": {
  "interpreter": {
   "hash": "aee8b7b246df8f9039afb4144a1f6fd8d2ca17a180786b69acc140d282b71a49"
  },
  "kernelspec": {
   "display_name": "resnet-pytorch",
   "language": "python",
   "name": "resnet-pytorch"
  }
 },
 "nbformat": 4,
 "nbformat_minor": 5
}
